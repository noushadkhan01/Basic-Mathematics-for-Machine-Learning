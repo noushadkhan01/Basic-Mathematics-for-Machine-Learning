{
  "nbformat": 4,
  "nbformat_minor": 0,
  "metadata": {
    "colab": {
      "name": "03-03-Matrices.ipynb",
      "version": "0.3.2",
      "provenance": [],
      "include_colab_link": true
    },
    "kernelspec": {
      "display_name": "Python 3.6",
      "language": "python",
      "name": "python36"
    }
  },
  "cells": [
    {
      "cell_type": "markdown",
      "metadata": {
        "id": "view-in-github",
        "colab_type": "text"
      },
      "source": [
        "<a href=\"https://colab.research.google.com/github/noushadkhan01/Basic-Mathematics-for-Machine-Learning/blob/master/Vector%20and%20Matrices%20by%20Hiren/03-03-Matrices.ipynb\" target=\"_parent\"><img src=\"https://colab.research.google.com/assets/colab-badge.svg\" alt=\"Open In Colab\"/></a>"
      ]
    },
    {
      "metadata": {
        "id": "AF2kwiO6pz7C",
        "colab_type": "text"
      },
      "cell_type": "markdown",
      "source": [
        "# Introduction to Matrices\n",
        "In general terms, a matrix is an array of numbers that are arranged into rows and columns.\n",
        "\n",
        "## Matrices and Matrix Notation\n",
        "A matrix arranges numbers into rows and columns, like this:\n",
        "\n",
        "\\begin{equation}A = \\begin{bmatrix}\n",
        "  1 & 2 & 3 \\\\\n",
        "  4 & 5 & 6\n",
        " \\end{bmatrix}\n",
        "\\end{equation}\n",
        "\n",
        "Note that matrices are generally named as a capital letter. We refer to the *elements* of the matrix using the lower case equivalent with a subscript row and column indicator, like this:\n",
        "\n",
        "\\begin{equation}A = \\begin{bmatrix}\n",
        "  a_{1,1} & a_{1,2} & a_{1,3} \\\\\n",
        "  a_{2,1} & a_{2,2} & a_{2,3}\n",
        " \\end{bmatrix}\n",
        "\\end{equation}\n",
        "\n",
        "In Python, you can define a matrix as a 2-dimensional *numpy.**array***, like this:"
      ]
    },
    {
      "metadata": {
        "id": "cnqwF9JIpz7F",
        "colab_type": "code",
        "colab": {}
      },
      "cell_type": "code",
      "source": [
        "import numpy as np\n",
        "\n",
        "A = np.array([[1,2,3],\n",
        "              [4,5,6]])\n",
        "print (A)"
      ],
      "execution_count": 0,
      "outputs": []
    },
    {
      "metadata": {
        "id": "QVRKe2z9pz7K",
        "colab_type": "text"
      },
      "cell_type": "markdown",
      "source": [
        "You can also use the *numpy.**matrix*** type, which is a specialist subclass of ***array***:"
      ]
    },
    {
      "metadata": {
        "id": "rj5ksXIfpz7M",
        "colab_type": "code",
        "colab": {}
      },
      "cell_type": "code",
      "source": [
        "import numpy as np\n",
        "\n",
        "M = np.matrix([[1,2,3],\n",
        "               [4,5,6]])\n",
        "print (M)"
      ],
      "execution_count": 0,
      "outputs": []
    },
    {
      "metadata": {
        "id": "CHSwfm4Epz7Q",
        "colab_type": "text"
      },
      "cell_type": "markdown",
      "source": [
        "There are some differences in behavior between ***array*** and ***matrix*** types - particularly with regards to multiplication (which we'll explore later). You can use either, but most experienced Python programmers who need to work with both vectors and matrices tend to prefer the ***array*** type for consistency."
      ]
    },
    {
      "metadata": {
        "id": "ZXnZ9Ycqpz7S",
        "colab_type": "text"
      },
      "cell_type": "markdown",
      "source": [
        "## Matrix Operations\n",
        "Matrices support common arithmetic operations.\n",
        "\n",
        "### Adding Matrices\n",
        "To add two matrices of the same size together, just add the corresponding elements in each matrix:\n",
        "\n",
        "\\begin{equation}\\begin{bmatrix}1 & 2 & 3 \\\\4 & 5 & 6\\end{bmatrix}+ \\begin{bmatrix}6 & 5 & 4 \\\\3 & 2 & 1\\end{bmatrix} = \\begin{bmatrix}7 & 7 & 7 \\\\7 & 7 & 7\\end{bmatrix}\\end{equation}\n",
        "\n",
        "In this example, we're adding two matrices (let's call them ***A*** and ***B***). Each matrix has two rows of three columns (so we describe them as 2x3 matrices). Adding these will create a new matrix of the same dimensions with the values a<sub>1,1</sub> + b<sub>1,1</sub>, a<sub>1,2</sub> + b<sub>1,2</sub>, a<sub>1,3</sub> + b<sub>1,3</sub>,a<sub>2,1</sub> + b<sub>2,1</sub>, a<sub>2,2</sub> + b<sub>2,2</sub>, and a<sub>2,3</sub> + b<sub>2,3</sub>. In this instance, each pair of corresponding elements(1 and 6, 2, and 5, 3 and 4, etc.) adds up to 7.\n",
        "\n",
        "Let's try that with Python:"
      ]
    },
    {
      "metadata": {
        "id": "OF5vQrufpz7S",
        "colab_type": "code",
        "colab": {}
      },
      "cell_type": "code",
      "source": [
        "import numpy as np\n",
        "\n",
        "A = np.array([[1,2,3],\n",
        "              [4,5,6]])\n",
        "B = np.array([[6,5,4],\n",
        "              [3,2,1]])\n",
        "print(A + B)"
      ],
      "execution_count": 0,
      "outputs": []
    },
    {
      "metadata": {
        "id": "PkfyPTn-pz7V",
        "colab_type": "text"
      },
      "cell_type": "markdown",
      "source": [
        "### Subtracting Matrices\n",
        "Matrix subtraction works similarly to matrix addition:\n",
        "\n",
        "\\begin{equation}\\begin{bmatrix}1 & 2 & 3 \\\\4 & 5 & 6\\end{bmatrix}- \\begin{bmatrix}6 & 5 & 4 \\\\3 & 2 & 1\\end{bmatrix} = \\begin{bmatrix}-5 & -3 & -1 \\\\1 & 3 & 5\\end{bmatrix}\\end{equation}\n",
        "\n",
        "Here's the Python code to do this:"
      ]
    },
    {
      "metadata": {
        "id": "qxakrzbapz7W",
        "colab_type": "code",
        "colab": {}
      },
      "cell_type": "code",
      "source": [
        "import numpy as np\n",
        "\n",
        "A = np.array([[1,2,3],\n",
        "              [4,5,6]])\n",
        "B = np.array([[6,5,4],\n",
        "              [3,2,1]])\n",
        "print (A - B)"
      ],
      "execution_count": 0,
      "outputs": []
    },
    {
      "metadata": {
        "id": "PReb9JHvpz7a",
        "colab_type": "text"
      },
      "cell_type": "markdown",
      "source": [
        "#### Conformability\n",
        "In the previous examples, we were able to add and subtract the matrices, because the *operands* (the matrices we are operating on) are ***conformable*** for the specific operation (in this case, addition or subtraction). To be conformable for addition and subtraction, the operands must have the same number of rows and columns. There are different conformability requirements for other operations, such as multiplication; which we'll explore later."
      ]
    },
    {
      "metadata": {
        "id": "dcB5klOzpz7a",
        "colab_type": "text"
      },
      "cell_type": "markdown",
      "source": [
        "### Negative Matrices\n",
        "The nagative of a matrix, is just a matrix with the sign of each element reversed:\n",
        "\n",
        "\\begin{equation}C = \\begin{bmatrix}-5 & -3 & -1 \\\\1 & 3 & 5\\end{bmatrix}\\end{equation}\n",
        "\n",
        "\\begin{equation}-C = \\begin{bmatrix}5 & 3 & 1 \\\\-1 & -3 & -5\\end{bmatrix}\\end{equation}\n",
        "\n",
        "Let's see that with Python:"
      ]
    },
    {
      "metadata": {
        "id": "SranGC1Zpz7c",
        "colab_type": "code",
        "colab": {}
      },
      "cell_type": "code",
      "source": [
        "import numpy as np\n",
        "\n",
        "C = np.array([[-5,-3,-1],\n",
        "              [1,3,5]])\n",
        "print (C)\n",
        "print (-C)"
      ],
      "execution_count": 0,
      "outputs": []
    },
    {
      "metadata": {
        "id": "u_ONrICcpz7f",
        "colab_type": "text"
      },
      "cell_type": "markdown",
      "source": [
        "### Matrix Transposition\n",
        "You can *transpose* a matrix, that is switch the orientation of its rows and columns. You indicate this with a superscript **T**, like this:\n",
        "\n",
        "\\begin{equation}\\begin{bmatrix}1 & 2 & 3 \\\\4 & 5 & 6\\end{bmatrix}^{T} = \\begin{bmatrix}1 & 4\\\\2 & 5\\\\3 & 6 \\end{bmatrix}\\end{equation}\n",
        "\n",
        "In Python, both *numpy.**array*** and *numpy.**matrix*** have a **T** function:"
      ]
    },
    {
      "metadata": {
        "id": "YoVyxUk4pz7h",
        "colab_type": "code",
        "colab": {}
      },
      "cell_type": "code",
      "source": [
        "import numpy as np\n",
        "\n",
        "A = np.array([[1,2,3],\n",
        "              [4,5,6]])\n",
        "print(A.T)"
      ],
      "execution_count": 0,
      "outputs": []
    }
  ]
}