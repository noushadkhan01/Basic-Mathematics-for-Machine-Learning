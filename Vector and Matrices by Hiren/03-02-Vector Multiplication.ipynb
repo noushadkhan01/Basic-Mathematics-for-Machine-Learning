{
  "nbformat": 4,
  "nbformat_minor": 0,
  "metadata": {
    "colab": {
      "name": "03-02-Vector Multiplication.ipynb",
      "version": "0.3.2",
      "provenance": [],
      "include_colab_link": true
    },
    "kernelspec": {
      "display_name": "Python 3.6",
      "language": "python",
      "name": "python36"
    }
  },
  "cells": [
    {
      "cell_type": "markdown",
      "metadata": {
        "id": "view-in-github",
        "colab_type": "text"
      },
      "source": [
        "<a href=\"https://colab.research.google.com/github/noushadkhan01/Basic-Mathematics-for-Machine-Learning/blob/master/Vector%20and%20Matrices%20by%20Hiren/03-02-Vector%20Multiplication.ipynb\" target=\"_parent\"><img src=\"https://colab.research.google.com/assets/colab-badge.svg\" alt=\"Open In Colab\"/></a>"
      ]
    },
    {
      "metadata": {
        "id": "NTVOYJocptf5",
        "colab_type": "text"
      },
      "cell_type": "markdown",
      "source": [
        "# Vector Multiplication\n",
        "Vector multiplication can be performed in three ways:\n",
        "\n",
        "- Scalar Multiplication\n",
        "- Dot Product Multiplication\n",
        "- Cross Product Multiplication\n",
        "\n",
        "## Scalar Multiplication\n",
        "Let's start with *scalar* multiplication - in other words, multiplying a vector by a single numeric value.\n",
        "\n",
        "Suppose I want to multiply my vector by 2, which I could write like this:\n",
        "\n",
        "\\begin{equation} \\vec{w} = 2\\vec{v}\\end{equation}\n",
        "\n",
        "Note that the result of this calculation is a new vector named **w**. So how would we calculate this?\n",
        "Recall that **v** is defined like this:\n",
        "\n",
        "\\begin{equation}\\vec{v} = \\begin{bmatrix}2 \\\\ 1 \\end{bmatrix}\\end{equation}\n",
        "\n",
        "To calculate 2v, we simply need to apply the operation to each dimension value in the vector matrix, like this:\n",
        "\n",
        "\\begin{equation}\\vec{w} = \\begin{bmatrix}2 \\cdot 2 \\\\  2 \\cdot 1 \\end{bmatrix}\\end{equation}\n",
        "\n",
        "Which gives us the following result:\n",
        "\n",
        "\\begin{equation}\\vec{w} = \\begin{bmatrix}2 \\cdot 2 \\\\  2 \\cdot 1 \\end{bmatrix} = \\begin{bmatrix}4 \\\\ 2 \\end{bmatrix}\\end{equation}\n",
        "\n",
        "In Python, you can apply these sort of matrix operations directly to numpy arrays, so we can simply calculate **w** like this:"
      ]
    },
    {
      "metadata": {
        "id": "TmkW_7zWptf-",
        "colab_type": "code",
        "colab": {}
      },
      "cell_type": "code",
      "source": [
        "%matplotlib inline\n",
        "\n",
        "import numpy as np\n",
        "import matplotlib.pyplot as plt\n",
        "import math\n",
        "\n",
        "v = np.array([2,1])\n",
        "\n",
        "w = 2 * v\n",
        "print(w)\n",
        "\n",
        "# Plot w\n",
        "origin = [0], [0]\n",
        "plt.grid()\n",
        "plt.ticklabel_format(style='sci', axis='both', scilimits=(0,0))\n",
        "plt.quiver(*origin, *w, scale=10)\n",
        "plt.show()"
      ],
      "execution_count": 0,
      "outputs": []
    },
    {
      "metadata": {
        "id": "Rx8MOL1RptgD",
        "colab_type": "text"
      },
      "cell_type": "markdown",
      "source": [
        "The same approach is taken for scalar division.\n",
        "\n",
        "Try it for yourself - use the cell below to calculate a new vector named **b** based on the following definition:\n",
        "\n",
        "\\begin{equation}\\vec{b} = \\frac{\\vec{v}}{2}\\end{equation}"
      ]
    },
    {
      "metadata": {
        "id": "HuHez7alptgE",
        "colab_type": "code",
        "colab": {}
      },
      "cell_type": "code",
      "source": [
        "b = v / 2\n",
        "print(b)\n",
        "\n",
        "# Plot b\n",
        "origin = [0], [0]\n",
        "plt.axis('equal')\n",
        "plt.grid()\n",
        "plt.ticklabel_format(style='sci', axis='both', scilimits=(0,0))\n",
        "plt.quiver(*origin, *b, scale=10)\n",
        "plt.show()"
      ],
      "execution_count": 0,
      "outputs": []
    },
    {
      "metadata": {
        "id": "WYDTHaMEptgO",
        "colab_type": "text"
      },
      "cell_type": "markdown",
      "source": [
        "## Dot Product Multiplication\n",
        "So we've seen how to multiply a vector by a scalar. How about multiplying two vectors together? There are actually two ways to do this depending on whether you want the result to be a *scalar product* (in other words, a number) or a *vector product* (a vector).\n",
        "\n",
        "To get a scalar product, we calculate the *dot product*. This takes a similar approach to multiplying a vector by a scalar, except that it multiplies each component pair of the vectors and sums the results. To indicate that we are performing a dot product operation, we use the &bull; operator:\n",
        "\n",
        "\\begin{equation} \\vec{v} \\cdot \\vec{s} = (v_{1} \\cdot s_{1}) + (v_{2} \\cdot s_{2}) ... + \\; (v_{n} \\cdot s_{n})\\end{equation}\n",
        "\n",
        "So for our vectors **v** (2,1) and **s** (-3,2), our calculation looks like this:\n",
        "\n",
        "\\begin{equation} \\vec{v} \\cdot \\vec{s} = (2 \\cdot -3) + (1 \\cdot 2) = -6 + 2 = -4\\end{equation}\n",
        "\n",
        "So the dot product, or scalar product, of **v** &bull; **s** is **-4**.\n",
        "\n",
        "In Python, you can use the *numpy.**dot*** function to calculate the dot product of two vector arrays:"
      ]
    },
    {
      "metadata": {
        "id": "5nn4QqrXptgP",
        "colab_type": "code",
        "colab": {}
      },
      "cell_type": "code",
      "source": [
        "import numpy as np\n",
        "\n",
        "v = np.array([2,1])\n",
        "s = np.array([-3,2])\n",
        "d = np.dot(v,s)\n",
        "print (d)"
      ],
      "execution_count": 0,
      "outputs": []
    },
    {
      "metadata": {
        "id": "cUKhVzDoptgS",
        "colab_type": "text"
      },
      "cell_type": "markdown",
      "source": [
        "In Python 3.5 and later, you can also use the **@** operator to calculate the dot product:"
      ]
    },
    {
      "metadata": {
        "id": "-Xt2SGDWptgT",
        "colab_type": "code",
        "colab": {}
      },
      "cell_type": "code",
      "source": [
        "import numpy as np\n",
        "\n",
        "v = np.array([2,1])\n",
        "s = np.array([-3,2])\n",
        "d = v @ s\n",
        "print (d)"
      ],
      "execution_count": 0,
      "outputs": []
    },
    {
      "metadata": {
        "id": "wbr0kzWRptgY",
        "colab_type": "text"
      },
      "cell_type": "markdown",
      "source": [
        "### The Cosine Rule\n",
        "An useful property of vector dot product multiplication is that we can use it to calculate the cosine of the angle between two vectors. We could write the dot products as:\n",
        "\n",
        "$$ \\vec{v} \\cdot \\vec{s} = \\|\\vec{v} \\|\\|\\vec{s}\\| \\cos (\\theta) $$ \n",
        "\n",
        "Which we can rearrange as:\n",
        "\n",
        "$$ \\cos(\\theta) = \\frac{\\vec{v} \\cdot \\vec{s}}{\\|\\vec{v} \\|\\|\\vec{s}\\|} $$\n",
        "\n",
        "So for our vectors **v** (2,1) and **s** (-3,2), our calculation looks like this:\n",
        "\n",
        "$$ \\cos(\\theta) = \\frac{(2 \\cdot-3) + (-3 \\cdot 2)}{\\sqrt{2^{2} + 1^{2}} \\times \\sqrt{-3^{2} + 2^{2}}} $$\n",
        "\n",
        "So:\n",
        "\n",
        "$$\\cos(\\theta) = \\frac{-4}{8.0622577483}$$\n",
        "\n",
        "Which calculates to:\n",
        "\n",
        "$$\\cos(\\theta) = -0.496138938357 $$\n",
        "\n",
        "So:\n",
        "\n",
        "$$\\theta \\approx 119.74 $$\n",
        "\n",
        "Here's that calculation in Python:"
      ]
    },
    {
      "metadata": {
        "id": "MHEbIuxsptga",
        "colab_type": "code",
        "colab": {}
      },
      "cell_type": "code",
      "source": [
        "import math\n",
        "import numpy as np\n",
        "\n",
        "# define our vectors\n",
        "v = np.array([2,1])\n",
        "s = np.array([-3,2])\n",
        "\n",
        "# get the magnitudes\n",
        "vMag = np.linalg.norm(v)\n",
        "sMag = np.linalg.norm(s)\n",
        "\n",
        "# calculate the cosine of theta\n",
        "cos = (v @ s) / (vMag * sMag)\n",
        "\n",
        "# so theta (in degrees) is:\n",
        "theta = math.degrees(math.acos(cos))\n",
        "\n",
        "print(theta)\n"
      ],
      "execution_count": 0,
      "outputs": []
    },
    {
      "metadata": {
        "collapsed": true,
        "id": "l3fsmPCrptgh",
        "colab_type": "text"
      },
      "cell_type": "markdown",
      "source": [
        "## Cross Product Multiplication\n",
        "To get the *vector product* of multipying two vectors together, you must calculate the *cross product*. The result of this is a new vector that is at right angles to both the other vectors in 3D Euclidean space. This means that the cross-product only really makes sense when working with vectors that contain three components.\n",
        "\n",
        "For example, let's suppose we have the following vectors:\n",
        "\n",
        "\\begin{equation}\\vec{p} = \\begin{bmatrix}2 \\\\ 3 \\\\ 1 \\end{bmatrix}\\;\\; \\vec{q} = \\begin{bmatrix}1 \\\\ 2 \\\\ -2 \\end{bmatrix}\\end{equation}\n",
        "\n",
        "To calculate the cross product of these vectors, written as **p** x **q**, we need to create a new vector (let's call it **r**) with three components (r<sub>1</sub>, r<sub>2</sub>, and r<sub>3</sub>). The values for these components are calculated like this:\n",
        "\n",
        "\\begin{equation}r_{1} = p_{2}q_{3} - p_{3}q_{2}\\end{equation}\n",
        "\\begin{equation}r_{2} = p_{3}q_{1} - p_{1}q_{3}\\end{equation}\n",
        "\\begin{equation}r_{3} = p_{1}q_{2} - p_{2}q_{1}\\end{equation}\n",
        "\n",
        "So in our case:\n",
        "\n",
        "\\begin{equation}\\vec{r} = \\vec{p} \\times \\vec{q} = \\begin{bmatrix}(3 \\cdot -2) - (1 \\cdot 2) \\\\ (1 \\cdot 1) - (2 \\cdot -2) \\\\ (2 \\cdot 2) - (3 \\cdot 1) \\end{bmatrix} = \\begin{bmatrix}-6 - 2 \\\\ 1 - -4 \\\\ 4 - 3 \\end{bmatrix} = \\begin{bmatrix}-8 \\\\ 5 \\\\ 1 \\end{bmatrix}\\end{equation}\n",
        "\n",
        "In Python, you can use the *numpy.**cross*** function to calculate the cross product of two vector arrays:"
      ]
    },
    {
      "metadata": {
        "id": "icZtp-YPptgi",
        "colab_type": "code",
        "colab": {}
      },
      "cell_type": "code",
      "source": [
        "import numpy as np\n",
        "\n",
        "p = np.array([2,3,1])\n",
        "q = np.array([1,2,-2])\n",
        "r = np.cross(p,q)\n",
        "print (r)"
      ],
      "execution_count": 0,
      "outputs": []
    }
  ]
}