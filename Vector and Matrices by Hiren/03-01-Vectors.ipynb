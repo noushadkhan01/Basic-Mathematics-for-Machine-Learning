{
  "nbformat": 4,
  "nbformat_minor": 0,
  "metadata": {
    "colab": {
      "name": "03-01-Vectors.ipynb",
      "version": "0.3.2",
      "provenance": [],
      "include_colab_link": true
    },
    "kernelspec": {
      "display_name": "Python 3.6",
      "language": "python",
      "name": "python36"
    }
  },
  "cells": [
    {
      "cell_type": "markdown",
      "metadata": {
        "id": "view-in-github",
        "colab_type": "text"
      },
      "source": [
        "<a href=\"https://colab.research.google.com/github/noushadkhan01/Basic-Mathematics-for-Machine-Learning/blob/master/Vector%20and%20Matrices%20by%20Hiren/03-01-Vectors.ipynb\" target=\"_parent\"><img src=\"https://colab.research.google.com/assets/colab-badge.svg\" alt=\"Open In Colab\"/></a>"
      ]
    },
    {
      "metadata": {
        "id": "eSE3Pbuapp24",
        "colab_type": "text"
      },
      "cell_type": "markdown",
      "source": [
        "# Vectors\n",
        "Vectors, and vector spaces, are fundamental to *linear algebra*, and they're used in many machine learning models. Vectors describe spatial lines and planes, enabling you to perform calculations that explore relationships in multi-dimensional space.\n",
        "\n",
        "## What is a Vector\n",
        "At its simplest, a vector is a numeric element that has both *magnitude* and *direction*. The magnitude represents a distance (for example, \"2 miles\") and the direction indicates which way the vector is headed (for example, \"East\"). Vectors are defined by an n-dimensional coordinate that describe a point in space that can be connected by a line from an arbitrary origin.\n",
        "\n",
        "That all seems a bit complicated, so let's start with a simple, two-dimensional example. In this case, we'll have a vector that is defined by a point in a two-dimensional plane: A two dimensional coordinate consists of an *x* and a *y* value, and in this case we'll use **2** for *x* and **1** for *y*.\n",
        "\n",
        "Our vector can be written as **v**=(2,1), but more formally we would use the following notation, in which the dimensional coordinate values for the vector are shown as a matrix:\n",
        "\\begin{equation}\\vec{v} = \\begin{bmatrix}2 \\\\ 1 \\end{bmatrix}\\end{equation}\n",
        "\n",
        "So what exactly does that mean? Well, the coordinate is two-dimensional, and describes the movements required to get to the end point (of *head*) of the vector - in this case, we need to move 2 units in the *x* dimension, and 1 unit in the *y* dimension. Note that we don't specify a starting point for the vector - we're simply describing a destination coordinate that encapsulate the magnitide and direction of the vector. Think about it as the directions you need to follow to get to *there* from *here*, without specifying where *here* actually is!\n",
        "\n",
        "It can help to visualize the vector, and with a two-dimensional vector, that's pretty straightforward. We just define a two-dimensional plane, choose a starting point, and plot the coordinate described by the vector relative to the starting point.\n",
        "\n",
        "Run the code in the following cell to visualize the vector **v** (which remember is described by the coordinate (2,1))."
      ]
    },
    {
      "metadata": {
        "id": "HZmr-Nd1rR0r",
        "colab_type": "code",
        "colab": {
          "base_uri": "https://localhost:8080/",
          "height": 34
        },
        "outputId": "ee756346-065b-4380-b6a4-543d4bb9aa37"
      },
      "cell_type": "code",
      "source": [
        "import numpy as np\n",
        "print(np.__version__)"
      ],
      "execution_count": 1,
      "outputs": [
        {
          "output_type": "stream",
          "text": [
            "1.14.6\n"
          ],
          "name": "stdout"
        }
      ]
    },
    {
      "metadata": {
        "id": "xhmTn2a9pp28",
        "colab_type": "code",
        "colab": {
          "base_uri": "https://localhost:8080/",
          "height": 265
        },
        "outputId": "767af224-9e83-4897-c3eb-9b6865c3d54a"
      },
      "cell_type": "code",
      "source": [
        "%matplotlib inline\n",
        "\n",
        "import numpy as np\n",
        "import matplotlib.pyplot as plt\n",
        "\n",
        "# We'll use a numpy array for our vector\n",
        "v = np.array([2,1])\n",
        "\n",
        "# and we'll use a quiver plot to visualize it.\n",
        "origin = [0], [0]\n",
        "plt.axis('equal')\n",
        "plt.grid()\n",
        "plt.ticklabel_format(style='sci', axis='both', scilimits=(0,0))\n",
        "plt.quiver(origin, v, scale=10, color='r', )\n",
        "plt.show()"
      ],
      "execution_count": 12,
      "outputs": [
        {
          "output_type": "display_data",
          "data": {
            "image/png": "[encoded data removed]",
            "text/plain": [
              "<matplotlib.figure.Figure at 0x7f17b8e58850>"
            ]
          },
          "metadata": {
            "tags": []
          }
        }
      ]
    },
    {
      "metadata": {
        "id": "MQnyA7Bfpp3G",
        "colab_type": "text"
      },
      "cell_type": "markdown",
      "source": [
        "Note that we can use a numpy array to define the vector in Python; so to create our (2,1) vector, we simply create a numpy array with the elements [2,1]. We've then used a quiver plot to visualize the vector, using the point 0,0 as the starting point (or *origin*). Our vector of (2,1) is shown as an arrow that starts at 0,0 and moves 2 units along the *x* axis (to the right) and 1 unit along the *y* axis (up)."
      ]
    },
    {
      "metadata": {
        "id": "ZGNjVWCBpp3J",
        "colab_type": "text"
      },
      "cell_type": "markdown",
      "source": [
        "## Calculating Vector Magnitude and Direction\n",
        "We tend to work with vectors by expressing their components as *cartesian coordinates*; that is, *x* and *y* (and other dimension) values that define the number of units travelled along each dimension. So the coordinates of our (2,1) vector indicate that we must travel 2 units along the *x* axis, and *1* unit along the *y* axis.\n",
        "\n",
        "However, you can also work with verctors in terms of their *polar coordinates*; that is coordinates that describe the magnitude and direction of the vector. The magnitude is the overall distance of the vector from tail to head, and the direction is the angle at which the vector is oriented.\n",
        "\n",
        "### Calculating Magnitude\n",
        "Calculating the magnitude of the vector from its cartesian coordinates requires measuring the distance between the arbitrary starting point and the vector head point. For a two-dimensional vector, we're actually just calculating the length of the hypotenuse in a right-angled triangle - so we could simply invoke Pythagorean theorum and calculate the square root of the sum of the squares of it's components, like this:\n",
        "\n",
        "\\begin{equation}\\|\\vec{v}\\| = \\sqrt{v_{1}\\;^{2} + v_{2}\\;^{2}}\\end{equation}\n",
        "\n",
        "The notation for a vector's magnitude is to surround the vector name with vertical bars - you can use single bars (for example, |**v**|) or double bars (||**v**||). Double-bars are often used to avoid confusion with absolute values. Note that the components of the vector are indicated by subscript indices (v<sub>1</sub>, v<sub>2</sub>,...v<sub>*n*</sub>),\n",
        "\n",
        "In this case, the vector **v** has two components with values **2** and **1**, so our magnitude calculation is:\n",
        "\n",
        "\\begin{equation}\\|\\vec{v}\\| = \\sqrt{2^{2} + 1^{2}}\\end{equation}\n",
        "\n",
        "Which is:\n",
        "\n",
        "\\begin{equation}\\|\\vec{v}\\| = \\sqrt{4 + 1}\\end{equation}\n",
        "\n",
        "So:\n",
        "\n",
        "\\begin{equation}\\|\\vec{v}\\| = \\sqrt{5} \\approx 2.24\\end{equation}\n",
        "\n",
        "You can run the following Python code to get a more precise result (note that the elements of a numpy array are zero-based)"
      ]
    },
    {
      "metadata": {
        "id": "aySPilCRpp3K",
        "colab_type": "code",
        "colab": {
          "base_uri": "https://localhost:8080/",
          "height": 34
        },
        "outputId": "fa33f2c6-67be-40ab-fb20-b0a258de2bd7"
      },
      "cell_type": "code",
      "source": [
        "import math\n",
        "\n",
        "vMag = math.sqrt(v[0]**2 + v[1]**2)\n",
        "print (vMag)"
      ],
      "execution_count": 13,
      "outputs": [
        {
          "output_type": "stream",
          "text": [
            "2.2360679775\n"
          ],
          "name": "stdout"
        }
      ]
    },
    {
      "metadata": {
        "id": "NVYQlEfDpp3P",
        "colab_type": "text"
      },
      "cell_type": "markdown",
      "source": [
        "This calculation works for vectors of any dimensionality - you just take the square root of the sum of the squared components:\n",
        "\n",
        "\\begin{equation}\\|\\vec{v}\\| = \\sqrt{v_{1}\\;^{2} + v_{2}\\;^{2} ... + v_{n}\\;^{2}}\\end{equation}\n",
        "\n",
        "In Python, *numpy* provides a linear algebra library named **linalg** that makes it easier to work with vectors - you can use the **norm** function in the following code to calculate the magnitude of a vector:"
      ]
    },
    {
      "metadata": {
        "id": "ZCuyhW2Dpp3R",
        "colab_type": "code",
        "colab": {
          "base_uri": "https://localhost:8080/",
          "height": 34
        },
        "outputId": "7053039c-b195-4f49-ed69-080b0ae49eac"
      },
      "cell_type": "code",
      "source": [
        "import numpy as np\n",
        "\n",
        "vMag = np.linalg.norm(v)\n",
        "print(vMag)"
      ],
      "execution_count": 15,
      "outputs": [
        {
          "output_type": "stream",
          "text": [
            "2.23606797749979\n"
          ],
          "name": "stdout"
        }
      ]
    },
    {
      "metadata": {
        "id": "0GX_n4IKpp3U",
        "colab_type": "text"
      },
      "cell_type": "markdown",
      "source": [
        "### Calculating Direction\n",
        "To calculate the direction, or *amplitude*, of a vector from its cartesian coordinates, you must employ a little trigonometry. We can get the angle of the vector by calculating the *inverse tangent*; sometimes known as the *arctan* (the *tangent*  calculates an angle as a ratio - the inverse tangent, or **tan<sup>-1</sup>**, expresses this in degrees).\n",
        "\n",
        "In any right-angled triangle, the tangent is calculated as the *opposite* over the *adjacent*. In a two dimensional vector, this is the *y* value over the *x* value, so for our **v** vector (2,1):\n",
        "\n",
        "\\begin{equation}tan(\\theta) = \\frac{1}{2}\\end{equation}\n",
        "\n",
        "This produces the result ***0.5***, from which we can use a calculator to calculate the inverse tangent to get the angle in degrees:\n",
        "\n",
        "\\begin{equation}\\theta = tan^{-1} (0.5) \\approx 26.57^{o}\\end{equation}\n",
        "\n",
        "Note that the direction angle is indicated as ***&theta;***.\n",
        "\n",
        "Run the following Python code to confirm this:"
      ]
    },
    {
      "metadata": {
        "id": "1lbXyHB8pp3Y",
        "colab_type": "code",
        "colab": {
          "base_uri": "https://localhost:8080/",
          "height": 51
        },
        "outputId": "281cbebf-8521-4a03-e7fd-1b460dd393df"
      },
      "cell_type": "code",
      "source": [
        "import math\n",
        "import numpy as np\n",
        "\n",
        "v = np.array([2,1])\n",
        "vTan = v[1] / v[0]\n",
        "print ('tan = ' + str(vTan))\n",
        "vAtan = math.atan(vTan)\n",
        "# atan returns the angle in radians, so convert to degrees\n",
        "print('inverse-tan = ' + str(math.degrees(vAtan)))"
      ],
      "execution_count": 16,
      "outputs": [
        {
          "output_type": "stream",
          "text": [
            "tan = 0\n",
            "inverse-tan = 0.0\n"
          ],
          "name": "stdout"
        }
      ]
    },
    {
      "metadata": {
        "id": "PhwK9LYzpp3f",
        "colab_type": "text"
      },
      "cell_type": "markdown",
      "source": [
        "There is an added complication however, because if the value for *x* or *y* (or both) is negative, the orientation of the vector is not standard, and a calculator can give you the wrong tan<sup>-1</sup> value. To ensure you get the correct direction for your vector, use the following rules:\n",
        "- Both *x* and *y* are positive: Use the tan<sup>-1</sup> value.\n",
        "- *x* is negative, *y* is positive: Add 180 to the tan<sup>-1</sup> value.\n",
        "- Both *x* and *y* are negative: Add 180 to the tan<sup>-1</sup> value.\n",
        "- *x* is positive, *y* is negative: Add 360 to the tan<sup>-1</sup> value.\n",
        "\n",
        "To understand why we need to do this, think of it this way. A vector can be pointing in any direction through a 360 degree arc.  Let's break that circle into four quadrants with the x and y axis through the center. Angles can be measured from the x axis in both the positive (counter-clockwise) and negative (clockwise) directions. We'll number the quadrants in the positive (counter-clockwise) direction (which is how we measure the *positive* angle) like this:\n",
        "\n",
        "    \n",
        "\n",
        "    2 | 1\n",
        "    - o -\n",
        "    3 | 4\n",
        "\n",
        "\n",
        "OK, let's look at 4 example vectors\n",
        "\n",
        " 1. Vector [2,4] has positive values for both x and y. The line for this vector travels through the point 0,0 from quadrant 3 to quadrant 1. Tan<sup>-1</sup> of 4/2 is around 63.4 degrees, which is the positive angle from the x axis to the vector line - so this is the direction of the vector.\n",
        " 2. Vector [-2,4] has a negative x and positive y. The line for this vector travels through point 0,0 from quadrant 4 to quadrant 2. Tan<sup>-1</sup> of 4/-2 is around -64.4 degrees, which is the *negative* angle from x to the vector line; but in the wrong direction (as if the vector was travelling from quadrant 2 towards quadrant 4). So we need the opposite direction, which we get by adding 180.\n",
        " 3. Vector [-2,-4] has negative x and y. The line for the vector travels through 0,0 from quadrant 1 to quadrant 3. Tan<sup>-1</sup> of -4/-2 is around 63.4 degrees, which is the angle between the x axis and the line, but again in the opposite direction, from quadrant 3 to quadrant 1; we need to go a further 180 degrees to reflect the correct direction.\n",
        " 4. Vector [2,-4] has positive x and negative y. It travels through 0,0 from quadrant 2 to quadrant 4. Tan<sup>-1</sup> of -4/2 is around -64.4 degrees, which is the *negative* angle from the x axis to the vector line. Technically it's correct, the line is travelleing down and to the right at an angle of -63.4 degrees; but we want to express the *positive* (counter-clockwise) angle, so we add 360.\n",
        "\n",
        "\n",
        "In the previous Python code, we used the *math.**atan*** function to calculate the inverse tangent from a numeric tangent. The *numpy* library includes a similar ***arctan*** function. When working with numpy arrays, you can also use the *numpy.**arctan2*** function to return the inverse tangent of an array-based vector in *radians*, and you can use the *numpy.**degrees*** function to convert this to degrees. The ***arctan2*** function automatically makes the necessary adjustment for negative *x* and *y* values."
      ]
    },
    {
      "metadata": {
        "id": "6xFnOR5Jpp3h",
        "colab_type": "code",
        "colab": {
          "base_uri": "https://localhost:8080/",
          "height": 51
        },
        "outputId": "a9f5d1d1-e128-4741-a891-a37ac3d2d04f"
      },
      "cell_type": "code",
      "source": [
        "import numpy as np\n",
        "\n",
        "v = np.array([2,1])\n",
        "print ('v: ' + str(np.degrees(np.arctan2(v[1], v[0]))))\n",
        "\n",
        "s = np.array([-3,2])\n",
        "print ('s: ' + str(np.degrees(np.arctan2(s[1], s[0]))))"
      ],
      "execution_count": 17,
      "outputs": [
        {
          "output_type": "stream",
          "text": [
            "v: 26.56505117707799\n",
            "s: 146.30993247402023\n"
          ],
          "name": "stdout"
        }
      ]
    },
    {
      "metadata": {
        "id": "fkAOuihUpp3m",
        "colab_type": "text"
      },
      "cell_type": "markdown",
      "source": [
        "## Vector Addition\n",
        "So far, we've worked with one vector at a time. What happens when you need to add two vectors.\n",
        "\n",
        "Let's take a look at an example, we already have a vector named **v**, as defined here:\n",
        "\\begin{equation}\\vec{v} = \\begin{bmatrix}2 \\\\ 1 \\end{bmatrix}\\end{equation}\n",
        "Now let's create a second vector, and called **s** like this:\n",
        "\\begin{equation}\\vec{s} = \\begin{bmatrix}-3 \\\\ 2 \\end{bmatrix}\\end{equation}\n",
        "\n",
        "Run the cell below to create **s** and plot it together with **v**:"
      ]
    },
    {
      "metadata": {
        "id": "Q3SdECdXpp3q",
        "colab_type": "code",
        "colab": {
          "base_uri": "https://localhost:8080/",
          "height": 265
        },
        "outputId": "f13e8ca8-6cc8-4f13-e30d-7356cd40014c"
      },
      "cell_type": "code",
      "source": [
        "import math\n",
        "import numpy as np\n",
        "import matplotlib.pyplot as plt\n",
        "%matplotlib inline\n",
        "\n",
        "v = np.array([2,1])\n",
        "s = np.array([-3,2])\n",
        "\n",
        "# Plot v and s\n",
        "vecs = np.array([v,s])\n",
        "origin = [0], [0]\n",
        "plt.axis('equal')\n",
        "plt.grid()\n",
        "plt.ticklabel_format(style='sci', axis='both', scilimits=(0,0))\n",
        "plt.quiver(origin, vecs[:,0], vecs[:,1], color=['r', 'b'], scale=10)\n",
        "plt.show()"
      ],
      "execution_count": 25,
      "outputs": [
        {
          "output_type": "display_data",
          "data": {
            "image/png": "[encoded data removed]",
            "text/plain": [
              "<matplotlib.figure.Figure at 0x7f17b8a179d0>"
            ]
          },
          "metadata": {
            "tags": []
          }
        }
      ]
    },
    {
      "metadata": {
        "id": "eRv4FNu0pp3v",
        "colab_type": "text"
      },
      "cell_type": "markdown",
      "source": [
        "You can see in the plot that the two vectors have different directions and magnitudes. So what happens when we add them together?\n",
        "\n",
        "Here's the formula:\n",
        "\\begin{equation}\\vec{z} = \\vec{v}+\\vec{s}\\end{equation}\n",
        "\n",
        "In terms of our vector matrices, this looks like this:\n",
        "\\begin{equation}\\vec{z} = \\begin{bmatrix}2 \\\\ 1 \\end{bmatrix} + \\begin{bmatrix}-3 \\\\ 2 \\end{bmatrix}\\end{equation}\n",
        "\n",
        "Which gives the following result:\n",
        "\\begin{equation}\\vec{z} = \\begin{bmatrix}2 \\\\ 1 \\end{bmatrix} + \\begin{bmatrix}-3 \\\\ 2 \\end{bmatrix} = \\begin{bmatrix}-1 \\\\ 3 \\end{bmatrix}\\end{equation}\n",
        "\n",
        "Let's verify that Python gives the same result:"
      ]
    },
    {
      "metadata": {
        "id": "9d0tKiQRpp3x",
        "colab_type": "code",
        "colab": {
          "base_uri": "https://localhost:8080/",
          "height": 34
        },
        "outputId": "3afc4987-bf07-47f6-c59b-d105627d70e2"
      },
      "cell_type": "code",
      "source": [
        "z = v + s\n",
        "print(z)"
      ],
      "execution_count": 26,
      "outputs": [
        {
          "output_type": "stream",
          "text": [
            "[-1  3]\n"
          ],
          "name": "stdout"
        }
      ]
    },
    {
      "metadata": {
        "id": "AYYYtWF3pp4E",
        "colab_type": "text"
      },
      "cell_type": "markdown",
      "source": [
        "So what does that look like on our plot?"
      ]
    },
    {
      "metadata": {
        "id": "uJwz3br_pp4F",
        "colab_type": "code",
        "colab": {
          "base_uri": "https://localhost:8080/",
          "height": 265
        },
        "outputId": "66733903-47c5-419c-8647-77e435b4653b"
      },
      "cell_type": "code",
      "source": [
        "vecs = np.array([v,s,z])\n",
        "origin = [0], [0], [0]\n",
        "plt.axis('equal')\n",
        "plt.grid()\n",
        "plt.ticklabel_format(style='sci', axis='both', scilimits=(0,0))\n",
        "plt.quiver(origin, vecs[:,0], vecs[:,1], color = ['r', 'b', 'r'], scale=10)\n",
        "plt.show()"
      ],
      "execution_count": 30,
      "outputs": [
        {
          "output_type": "display_data",
          "data": {
            "image/png": "[encoded data removed]",
            "text/plain": [
              "<matplotlib.figure.Figure at 0x7f17b8a4dc90>"
            ]
          },
          "metadata": {
            "tags": []
          }
        }
      ]
    },
    {
      "metadata": {
        "id": "Z761DxJmpp4N",
        "colab_type": "text"
      },
      "cell_type": "markdown",
      "source": [
        "So what's going on here?\n",
        "Well, we added the dimensions of **s** to the dimensions of **v** to describe a new vector **z**. Let's break that down:\n",
        "- The dimensions of **v** are (2,1), so from our starting point we move 2 units in the *x* dimension (across to the right) and 1 unit in the *y* dimension (up). In the plot, if you start at the (0,0) position, this is shown as the red arrow.\n",
        "- Then we're adding **s**, which has dimension values (-3, 2), so we move -3 units in the *x* dimension (across to the left, because it's a negative number) and then 2 units in the *y* dimension (up). On the plot, if you start at the head of the red arrow and make these moves, you'll end up at the head of the green arrow, which represents **z**.\n",
        "\n",
        "The same is true if you perform the addition operation the other way around and add **v** to **s**, the steps to create **s** are described by the blue arrow, and if you use that as the starting point for **v**, you'll end up at the head of the green arrow, which represents **z**.\n",
        "\n",
        "Note on the plot that if you simply moved the tail of the blue arrow so that it started at the head of red arrow, its head would end up in the same place as the head of the green arrow; and the same would be true if you moved tail of the red arrow to the head of the blue arrow."
      ]
    },
    {
      "metadata": {
        "id": "ID3THl-Nt1hF",
        "colab_type": "code",
        "colab": {}
      },
      "cell_type": "code",
      "source": [
        ""
      ],
      "execution_count": 0,
      "outputs": []
    }
  ]
}